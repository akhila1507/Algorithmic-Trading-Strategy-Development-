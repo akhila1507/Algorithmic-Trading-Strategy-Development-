{
  "cells": [
    {
      "cell_type": "markdown",
      "metadata": {
        "id": "view-in-github",
        "colab_type": "text"
      },
      "source": [
        "<a href=\"https://colab.research.google.com/github/akhila1507/Algorithmic-Trading-Strategy-Development-/blob/main/Portfolio_Optimization.ipynb\" target=\"_parent\"><img src=\"https://colab.research.google.com/assets/colab-badge.svg\" alt=\"Open In Colab\"/></a>"
      ]
    },
    {
      "cell_type": "markdown",
      "source": [
        "# **Motive behind the Project**"
      ],
      "metadata": {
        "id": "3TCnJjvH4VZy"
      }
    },
    {
      "cell_type": "markdown",
      "source": [
        "The project focused on generating the Minimum Variance Portfolio on diversely selected Indian stocks. It gave the team a deeper idea on the concepts they learnt from the book like CAPM, Sharpe ratio etc. It was the first project of our team in the field of Quantitative Finance and this really gave us a deeper insight of the practical work that happens in the Industrial level."
      ],
      "metadata": {
        "id": "mCVzK7iv4lho"
      }
    },
    {
      "cell_type": "markdown",
      "source": [
        "# **Install the Packages**"
      ],
      "metadata": {
        "id": "US5PvgU34l-8"
      }
    },
    {
      "cell_type": "code",
      "source": [
        "!pip install yfinance"
      ],
      "metadata": {
        "id": "xJlzkFPsvINo",
        "outputId": "521e3c74-92ed-4dff-8b63-24a7e5121fe4",
        "colab": {
          "base_uri": "https://localhost:8080/"
        }
      },
      "execution_count": null,
      "outputs": [
        {
          "output_type": "stream",
          "name": "stdout",
          "text": [
            "Looking in indexes: https://pypi.org/simple, https://us-python.pkg.dev/colab-wheels/public/simple/\n",
            "Collecting yfinance\n",
            "  Downloading yfinance-0.2.4-py2.py3-none-any.whl (51 kB)\n",
            "\u001b[2K     \u001b[90m━━━━━━━━━━━━━━━━━━━━━━━━━━━━━━━━━━━━━━━━\u001b[0m \u001b[32m51.4/51.4 KB\u001b[0m \u001b[31m2.1 MB/s\u001b[0m eta \u001b[36m0:00:00\u001b[0m\n",
            "\u001b[?25hRequirement already satisfied: appdirs>=1.4.4 in /usr/local/lib/python3.8/dist-packages (from yfinance) (1.4.4)\n",
            "Requirement already satisfied: pytz>=2022.5 in /usr/local/lib/python3.8/dist-packages (from yfinance) (2022.7)\n",
            "Requirement already satisfied: multitasking>=0.0.7 in /usr/local/lib/python3.8/dist-packages (from yfinance) (0.0.11)\n",
            "Collecting html5lib>=1.1\n",
            "  Downloading html5lib-1.1-py2.py3-none-any.whl (112 kB)\n",
            "\u001b[2K     \u001b[90m━━━━━━━━━━━━━━━━━━━━━━━━━━━━━━━━━━━━━━━\u001b[0m \u001b[32m112.2/112.2 KB\u001b[0m \u001b[31m7.0 MB/s\u001b[0m eta \u001b[36m0:00:00\u001b[0m\n",
            "\u001b[?25hCollecting requests>=2.26\n",
            "  Downloading requests-2.28.2-py3-none-any.whl (62 kB)\n",
            "\u001b[2K     \u001b[90m━━━━━━━━━━━━━━━━━━━━━━━━━━━━━━━━━━━━━━━━\u001b[0m \u001b[32m62.8/62.8 KB\u001b[0m \u001b[31m3.9 MB/s\u001b[0m eta \u001b[36m0:00:00\u001b[0m\n",
            "\u001b[?25hCollecting cryptography>=3.3.2\n",
            "  Downloading cryptography-39.0.0-cp36-abi3-manylinux_2_28_x86_64.whl (4.2 MB)\n",
            "\u001b[2K     \u001b[90m━━━━━━━━━━━━━━━━━━━━━━━━━━━━━━━━━━━━━━━━\u001b[0m \u001b[32m4.2/4.2 MB\u001b[0m \u001b[31m44.5 MB/s\u001b[0m eta \u001b[36m0:00:00\u001b[0m\n",
            "\u001b[?25hRequirement already satisfied: pandas>=1.3.0 in /usr/local/lib/python3.8/dist-packages (from yfinance) (1.3.5)\n",
            "Requirement already satisfied: lxml>=4.9.1 in /usr/local/lib/python3.8/dist-packages (from yfinance) (4.9.2)\n",
            "Requirement already satisfied: numpy>=1.16.5 in /usr/local/lib/python3.8/dist-packages (from yfinance) (1.21.6)\n",
            "Collecting frozendict>=2.3.4\n",
            "  Downloading frozendict-2.3.4-cp38-cp38-manylinux_2_17_x86_64.manylinux2014_x86_64.whl (110 kB)\n",
            "\u001b[2K     \u001b[90m━━━━━━━━━━━━━━━━━━━━━━━━━━━━━━━━━━━━━━━\u001b[0m \u001b[32m111.0/111.0 KB\u001b[0m \u001b[31m4.7 MB/s\u001b[0m eta \u001b[36m0:00:00\u001b[0m\n",
            "\u001b[?25hCollecting beautifulsoup4>=4.11.1\n",
            "  Downloading beautifulsoup4-4.11.1-py3-none-any.whl (128 kB)\n",
            "\u001b[2K     \u001b[90m━━━━━━━━━━━━━━━━━━━━━━━━━━━━━━━━━━━━━━━\u001b[0m \u001b[32m128.2/128.2 KB\u001b[0m \u001b[31m9.7 MB/s\u001b[0m eta \u001b[36m0:00:00\u001b[0m\n",
            "\u001b[?25hCollecting soupsieve>1.2\n",
            "  Downloading soupsieve-2.3.2.post1-py3-none-any.whl (37 kB)\n",
            "Requirement already satisfied: cffi>=1.12 in /usr/local/lib/python3.8/dist-packages (from cryptography>=3.3.2->yfinance) (1.15.1)\n",
            "Requirement already satisfied: six>=1.9 in /usr/local/lib/python3.8/dist-packages (from html5lib>=1.1->yfinance) (1.15.0)\n",
            "Requirement already satisfied: webencodings in /usr/local/lib/python3.8/dist-packages (from html5lib>=1.1->yfinance) (0.5.1)\n",
            "Requirement already satisfied: python-dateutil>=2.7.3 in /usr/local/lib/python3.8/dist-packages (from pandas>=1.3.0->yfinance) (2.8.2)\n",
            "Requirement already satisfied: idna<4,>=2.5 in /usr/local/lib/python3.8/dist-packages (from requests>=2.26->yfinance) (2.10)\n",
            "Requirement already satisfied: certifi>=2017.4.17 in /usr/local/lib/python3.8/dist-packages (from requests>=2.26->yfinance) (2022.12.7)\n",
            "Requirement already satisfied: urllib3<1.27,>=1.21.1 in /usr/local/lib/python3.8/dist-packages (from requests>=2.26->yfinance) (1.24.3)\n",
            "Requirement already satisfied: charset-normalizer<4,>=2 in /usr/local/lib/python3.8/dist-packages (from requests>=2.26->yfinance) (2.1.1)\n",
            "Requirement already satisfied: pycparser in /usr/local/lib/python3.8/dist-packages (from cffi>=1.12->cryptography>=3.3.2->yfinance) (2.21)\n",
            "Installing collected packages: soupsieve, requests, html5lib, frozendict, cryptography, beautifulsoup4, yfinance\n",
            "  Attempting uninstall: requests\n",
            "    Found existing installation: requests 2.25.1\n",
            "    Uninstalling requests-2.25.1:\n",
            "      Successfully uninstalled requests-2.25.1\n",
            "  Attempting uninstall: html5lib\n",
            "    Found existing installation: html5lib 1.0.1\n",
            "    Uninstalling html5lib-1.0.1:\n",
            "      Successfully uninstalled html5lib-1.0.1\n",
            "  Attempting uninstall: beautifulsoup4\n",
            "    Found existing installation: beautifulsoup4 4.6.3\n",
            "    Uninstalling beautifulsoup4-4.6.3:\n",
            "      Successfully uninstalled beautifulsoup4-4.6.3\n",
            "Successfully installed beautifulsoup4-4.11.1 cryptography-39.0.0 frozendict-2.3.4 html5lib-1.1 requests-2.28.2 soupsieve-2.3.2.post1 yfinance-0.2.4\n"
          ]
        }
      ]
    },
    {
      "cell_type": "markdown",
      "source": [
        "# **Import the Libraries**"
      ],
      "metadata": {
        "id": "9ATmgWdx4zG-"
      }
    },
    {
      "cell_type": "code",
      "source": [
        "import pandas as pd\n",
        "import numpy as np\n",
        "import yfinance as yf\n",
        "import matplotlib.pyplot as plt\n",
        "\n",
        "%matplotlib inline"
      ],
      "metadata": {
        "id": "IEyao4vPvIUL"
      },
      "execution_count": null,
      "outputs": []
    },
    {
      "cell_type": "markdown",
      "source": [
        "# **Choosing of the Stocks**"
      ],
      "metadata": {
        "id": "i0sXwJ1K5gFP"
      }
    },
    {
      "cell_type": "markdown",
      "source": [
        "So basically what I did is I selected 5 stocks on total from 5 different sectors. The reason behind this is it increases the diversification and decreases the correlation between the individual stocks as they arent from the same sector."
      ],
      "metadata": {
        "id": "hfktfa7b5gI_"
      }
    },
    {
      "cell_type": "markdown",
      "source": [
        "# **Downloading of the Stocks**"
      ],
      "metadata": {
        "id": "Iy2EfiRG44C9"
      }
    },
    {
      "cell_type": "code",
      "source": [
        "stocks=['HDFC.NS','ASHOKLEY.NS','BAJFINANCE.NS','BRITANNIA.NS','WIPRO.NS']"
      ],
      "metadata": {
        "id": "Ybsd2WbGvIav"
      },
      "execution_count": null,
      "outputs": []
    },
    {
      "cell_type": "code",
      "source": [
        "df=yf.download(stocks,start='2017-01-01',end='2018-12-31',progress=False)['Adj Close']\n",
        "df.sort_index(inplace=True)\n",
        "df"
      ],
      "metadata": {
        "id": "6-6gXj47vIhC",
        "outputId": "e543ec9b-2acf-4268-89f5-6b9b27936346",
        "colab": {
          "base_uri": "https://localhost:8080/",
          "height": 455
        }
      },
      "execution_count": null,
      "outputs": [
        {
          "output_type": "execute_result",
          "data": {
            "text/plain": [
              "                           ASHOKLEY.NS  BAJFINANCE.NS  BRITANNIA.NS  \\\n",
              "Date                                                                  \n",
              "2017-01-02 00:00:00+05:30    69.095886     858.305298   1294.795776   \n",
              "2017-01-03 00:00:00+05:30    69.138542     872.067017   1288.425781   \n",
              "2017-01-04 00:00:00+05:30    71.527054     860.130493   1279.521606   \n",
              "2017-01-05 00:00:00+05:30    71.612350     887.604431   1285.532471   \n",
              "2017-01-06 00:00:00+05:30    72.763954     866.591980   1298.608398   \n",
              "...                                ...            ...           ...   \n",
              "2018-12-21 00:00:00+05:30    94.685204    2567.272949   2848.175537   \n",
              "2018-12-24 00:00:00+05:30    94.011124    2541.166748   2830.601562   \n",
              "2018-12-26 00:00:00+05:30    93.381996    2543.643799   2820.011475   \n",
              "2018-12-27 00:00:00+05:30    92.573097    2563.210693   2807.640869   \n",
              "2018-12-28 00:00:00+05:30    92.348404    2610.420166   2828.730225   \n",
              "\n",
              "                               HDFC.NS    WIPRO.NS  \n",
              "Date                                                \n",
              "2017-01-02 00:00:00+05:30  1120.961304  172.178101  \n",
              "2017-01-03 00:00:00+05:30  1118.106201  170.516724  \n",
              "2017-01-04 00:00:00+05:30  1116.356323  173.656876  \n",
              "2017-01-05 00:00:00+05:30  1121.053345  175.409500  \n",
              "2017-01-06 00:00:00+05:30  1125.796631  171.593872  \n",
              "...                                ...         ...  \n",
              "2018-12-21 00:00:00+05:30  1833.614746  237.025681  \n",
              "2018-12-24 00:00:00+05:30  1789.905762  240.410706  \n",
              "2018-12-26 00:00:00+05:30  1819.264648  240.005966  \n",
              "2018-12-27 00:00:00+05:30  1833.849731  240.962616  \n",
              "2018-12-28 00:00:00+05:30  1863.114624  242.875916  \n",
              "\n",
              "[493 rows x 5 columns]"
            ],
            "text/html": [
              "\n",
              "  <div id=\"df-26b4f32d-1d26-42af-9bfc-c437b1045cf5\">\n",
              "    <div class=\"colab-df-container\">\n",
              "      <div>\n",
              "<style scoped>\n",
              "    .dataframe tbody tr th:only-of-type {\n",
              "        vertical-align: middle;\n",
              "    }\n",
              "\n",
              "    .dataframe tbody tr th {\n",
              "        vertical-align: top;\n",
              "    }\n",
              "\n",
              "    .dataframe thead th {\n",
              "        text-align: right;\n",
              "    }\n",
              "</style>\n",
              "<table border=\"1\" class=\"dataframe\">\n",
              "  <thead>\n",
              "    <tr style=\"text-align: right;\">\n",
              "      <th></th>\n",
              "      <th>ASHOKLEY.NS</th>\n",
              "      <th>BAJFINANCE.NS</th>\n",
              "      <th>BRITANNIA.NS</th>\n",
              "      <th>HDFC.NS</th>\n",
              "      <th>WIPRO.NS</th>\n",
              "    </tr>\n",
              "    <tr>\n",
              "      <th>Date</th>\n",
              "      <th></th>\n",
              "      <th></th>\n",
              "      <th></th>\n",
              "      <th></th>\n",
              "      <th></th>\n",
              "    </tr>\n",
              "  </thead>\n",
              "  <tbody>\n",
              "    <tr>\n",
              "      <th>2017-01-02 00:00:00+05:30</th>\n",
              "      <td>69.095886</td>\n",
              "      <td>858.305298</td>\n",
              "      <td>1294.795776</td>\n",
              "      <td>1120.961304</td>\n",
              "      <td>172.178101</td>\n",
              "    </tr>\n",
              "    <tr>\n",
              "      <th>2017-01-03 00:00:00+05:30</th>\n",
              "      <td>69.138542</td>\n",
              "      <td>872.067017</td>\n",
              "      <td>1288.425781</td>\n",
              "      <td>1118.106201</td>\n",
              "      <td>170.516724</td>\n",
              "    </tr>\n",
              "    <tr>\n",
              "      <th>2017-01-04 00:00:00+05:30</th>\n",
              "      <td>71.527054</td>\n",
              "      <td>860.130493</td>\n",
              "      <td>1279.521606</td>\n",
              "      <td>1116.356323</td>\n",
              "      <td>173.656876</td>\n",
              "    </tr>\n",
              "    <tr>\n",
              "      <th>2017-01-05 00:00:00+05:30</th>\n",
              "      <td>71.612350</td>\n",
              "      <td>887.604431</td>\n",
              "      <td>1285.532471</td>\n",
              "      <td>1121.053345</td>\n",
              "      <td>175.409500</td>\n",
              "    </tr>\n",
              "    <tr>\n",
              "      <th>2017-01-06 00:00:00+05:30</th>\n",
              "      <td>72.763954</td>\n",
              "      <td>866.591980</td>\n",
              "      <td>1298.608398</td>\n",
              "      <td>1125.796631</td>\n",
              "      <td>171.593872</td>\n",
              "    </tr>\n",
              "    <tr>\n",
              "      <th>...</th>\n",
              "      <td>...</td>\n",
              "      <td>...</td>\n",
              "      <td>...</td>\n",
              "      <td>...</td>\n",
              "      <td>...</td>\n",
              "    </tr>\n",
              "    <tr>\n",
              "      <th>2018-12-21 00:00:00+05:30</th>\n",
              "      <td>94.685204</td>\n",
              "      <td>2567.272949</td>\n",
              "      <td>2848.175537</td>\n",
              "      <td>1833.614746</td>\n",
              "      <td>237.025681</td>\n",
              "    </tr>\n",
              "    <tr>\n",
              "      <th>2018-12-24 00:00:00+05:30</th>\n",
              "      <td>94.011124</td>\n",
              "      <td>2541.166748</td>\n",
              "      <td>2830.601562</td>\n",
              "      <td>1789.905762</td>\n",
              "      <td>240.410706</td>\n",
              "    </tr>\n",
              "    <tr>\n",
              "      <th>2018-12-26 00:00:00+05:30</th>\n",
              "      <td>93.381996</td>\n",
              "      <td>2543.643799</td>\n",
              "      <td>2820.011475</td>\n",
              "      <td>1819.264648</td>\n",
              "      <td>240.005966</td>\n",
              "    </tr>\n",
              "    <tr>\n",
              "      <th>2018-12-27 00:00:00+05:30</th>\n",
              "      <td>92.573097</td>\n",
              "      <td>2563.210693</td>\n",
              "      <td>2807.640869</td>\n",
              "      <td>1833.849731</td>\n",
              "      <td>240.962616</td>\n",
              "    </tr>\n",
              "    <tr>\n",
              "      <th>2018-12-28 00:00:00+05:30</th>\n",
              "      <td>92.348404</td>\n",
              "      <td>2610.420166</td>\n",
              "      <td>2828.730225</td>\n",
              "      <td>1863.114624</td>\n",
              "      <td>242.875916</td>\n",
              "    </tr>\n",
              "  </tbody>\n",
              "</table>\n",
              "<p>493 rows × 5 columns</p>\n",
              "</div>\n",
              "      <button class=\"colab-df-convert\" onclick=\"convertToInteractive('df-26b4f32d-1d26-42af-9bfc-c437b1045cf5')\"\n",
              "              title=\"Convert this dataframe to an interactive table.\"\n",
              "              style=\"display:none;\">\n",
              "        \n",
              "  <svg xmlns=\"http://www.w3.org/2000/svg\" height=\"24px\"viewBox=\"0 0 24 24\"\n",
              "       width=\"24px\">\n",
              "    <path d=\"M0 0h24v24H0V0z\" fill=\"none\"/>\n",
              "    <path d=\"M18.56 5.44l.94 2.06.94-2.06 2.06-.94-2.06-.94-.94-2.06-.94 2.06-2.06.94zm-11 1L8.5 8.5l.94-2.06 2.06-.94-2.06-.94L8.5 2.5l-.94 2.06-2.06.94zm10 10l.94 2.06.94-2.06 2.06-.94-2.06-.94-.94-2.06-.94 2.06-2.06.94z\"/><path d=\"M17.41 7.96l-1.37-1.37c-.4-.4-.92-.59-1.43-.59-.52 0-1.04.2-1.43.59L10.3 9.45l-7.72 7.72c-.78.78-.78 2.05 0 2.83L4 21.41c.39.39.9.59 1.41.59.51 0 1.02-.2 1.41-.59l7.78-7.78 2.81-2.81c.8-.78.8-2.07 0-2.86zM5.41 20L4 18.59l7.72-7.72 1.47 1.35L5.41 20z\"/>\n",
              "  </svg>\n",
              "      </button>\n",
              "      \n",
              "  <style>\n",
              "    .colab-df-container {\n",
              "      display:flex;\n",
              "      flex-wrap:wrap;\n",
              "      gap: 12px;\n",
              "    }\n",
              "\n",
              "    .colab-df-convert {\n",
              "      background-color: #E8F0FE;\n",
              "      border: none;\n",
              "      border-radius: 50%;\n",
              "      cursor: pointer;\n",
              "      display: none;\n",
              "      fill: #1967D2;\n",
              "      height: 32px;\n",
              "      padding: 0 0 0 0;\n",
              "      width: 32px;\n",
              "    }\n",
              "\n",
              "    .colab-df-convert:hover {\n",
              "      background-color: #E2EBFA;\n",
              "      box-shadow: 0px 1px 2px rgba(60, 64, 67, 0.3), 0px 1px 3px 1px rgba(60, 64, 67, 0.15);\n",
              "      fill: #174EA6;\n",
              "    }\n",
              "\n",
              "    [theme=dark] .colab-df-convert {\n",
              "      background-color: #3B4455;\n",
              "      fill: #D2E3FC;\n",
              "    }\n",
              "\n",
              "    [theme=dark] .colab-df-convert:hover {\n",
              "      background-color: #434B5C;\n",
              "      box-shadow: 0px 1px 3px 1px rgba(0, 0, 0, 0.15);\n",
              "      filter: drop-shadow(0px 1px 2px rgba(0, 0, 0, 0.3));\n",
              "      fill: #FFFFFF;\n",
              "    }\n",
              "  </style>\n",
              "\n",
              "      <script>\n",
              "        const buttonEl =\n",
              "          document.querySelector('#df-26b4f32d-1d26-42af-9bfc-c437b1045cf5 button.colab-df-convert');\n",
              "        buttonEl.style.display =\n",
              "          google.colab.kernel.accessAllowed ? 'block' : 'none';\n",
              "\n",
              "        async function convertToInteractive(key) {\n",
              "          const element = document.querySelector('#df-26b4f32d-1d26-42af-9bfc-c437b1045cf5');\n",
              "          const dataTable =\n",
              "            await google.colab.kernel.invokeFunction('convertToInteractive',\n",
              "                                                     [key], {});\n",
              "          if (!dataTable) return;\n",
              "\n",
              "          const docLinkHtml = 'Like what you see? Visit the ' +\n",
              "            '<a target=\"_blank\" href=https://colab.research.google.com/notebooks/data_table.ipynb>data table notebook</a>'\n",
              "            + ' to learn more about interactive tables.';\n",
              "          element.innerHTML = '';\n",
              "          dataTable['output_type'] = 'display_data';\n",
              "          await google.colab.output.renderOutput(dataTable, element);\n",
              "          const docLink = document.createElement('div');\n",
              "          docLink.innerHTML = docLinkHtml;\n",
              "          element.appendChild(docLink);\n",
              "        }\n",
              "      </script>\n",
              "    </div>\n",
              "  </div>\n",
              "  "
            ]
          },
          "metadata": {},
          "execution_count": 4
        }
      ]
    },
    {
      "cell_type": "code",
      "source": [
        "returns=df.pct_change()\n",
        "returns"
      ],
      "metadata": {
        "id": "IE8LRXJnvInS",
        "outputId": "7b12af3c-d905-441a-a007-ced14c4fa773",
        "colab": {
          "base_uri": "https://localhost:8080/",
          "height": 455
        }
      },
      "execution_count": null,
      "outputs": [
        {
          "output_type": "execute_result",
          "data": {
            "text/plain": [
              "                           ASHOKLEY.NS  BAJFINANCE.NS  BRITANNIA.NS   HDFC.NS  \\\n",
              "Date                                                                            \n",
              "2017-01-02 00:00:00+05:30          NaN            NaN           NaN       NaN   \n",
              "2017-01-03 00:00:00+05:30     0.000617       0.016034     -0.004920 -0.002547   \n",
              "2017-01-04 00:00:00+05:30     0.034547      -0.013688     -0.006911 -0.001565   \n",
              "2017-01-05 00:00:00+05:30     0.001193       0.031942      0.004698  0.004207   \n",
              "2017-01-06 00:00:00+05:30     0.016081      -0.023673      0.010172  0.004231   \n",
              "...                                ...            ...           ...       ...   \n",
              "2018-12-21 00:00:00+05:30    -0.007536      -0.000058     -0.016100 -0.013217   \n",
              "2018-12-24 00:00:00+05:30    -0.007119      -0.010169     -0.006170 -0.023838   \n",
              "2018-12-26 00:00:00+05:30    -0.006692       0.000975     -0.003741  0.016402   \n",
              "2018-12-27 00:00:00+05:30    -0.008662       0.007692     -0.004387  0.008017   \n",
              "2018-12-28 00:00:00+05:30    -0.002427       0.018418      0.007511  0.015958   \n",
              "\n",
              "                           WIPRO.NS  \n",
              "Date                                 \n",
              "2017-01-02 00:00:00+05:30       NaN  \n",
              "2017-01-03 00:00:00+05:30 -0.009649  \n",
              "2017-01-04 00:00:00+05:30  0.018416  \n",
              "2017-01-05 00:00:00+05:30  0.010092  \n",
              "2017-01-06 00:00:00+05:30 -0.021753  \n",
              "...                             ...  \n",
              "2018-12-21 00:00:00+05:30 -0.033458  \n",
              "2018-12-24 00:00:00+05:30  0.014281  \n",
              "2018-12-26 00:00:00+05:30 -0.001684  \n",
              "2018-12-27 00:00:00+05:30  0.003986  \n",
              "2018-12-28 00:00:00+05:30  0.007940  \n",
              "\n",
              "[493 rows x 5 columns]"
            ],
            "text/html": [
              "\n",
              "  <div id=\"df-d6702a36-3b4e-4d9b-b530-507625250035\">\n",
              "    <div class=\"colab-df-container\">\n",
              "      <div>\n",
              "<style scoped>\n",
              "    .dataframe tbody tr th:only-of-type {\n",
              "        vertical-align: middle;\n",
              "    }\n",
              "\n",
              "    .dataframe tbody tr th {\n",
              "        vertical-align: top;\n",
              "    }\n",
              "\n",
              "    .dataframe thead th {\n",
              "        text-align: right;\n",
              "    }\n",
              "</style>\n",
              "<table border=\"1\" class=\"dataframe\">\n",
              "  <thead>\n",
              "    <tr style=\"text-align: right;\">\n",
              "      <th></th>\n",
              "      <th>ASHOKLEY.NS</th>\n",
              "      <th>BAJFINANCE.NS</th>\n",
              "      <th>BRITANNIA.NS</th>\n",
              "      <th>HDFC.NS</th>\n",
              "      <th>WIPRO.NS</th>\n",
              "    </tr>\n",
              "    <tr>\n",
              "      <th>Date</th>\n",
              "      <th></th>\n",
              "      <th></th>\n",
              "      <th></th>\n",
              "      <th></th>\n",
              "      <th></th>\n",
              "    </tr>\n",
              "  </thead>\n",
              "  <tbody>\n",
              "    <tr>\n",
              "      <th>2017-01-02 00:00:00+05:30</th>\n",
              "      <td>NaN</td>\n",
              "      <td>NaN</td>\n",
              "      <td>NaN</td>\n",
              "      <td>NaN</td>\n",
              "      <td>NaN</td>\n",
              "    </tr>\n",
              "    <tr>\n",
              "      <th>2017-01-03 00:00:00+05:30</th>\n",
              "      <td>0.000617</td>\n",
              "      <td>0.016034</td>\n",
              "      <td>-0.004920</td>\n",
              "      <td>-0.002547</td>\n",
              "      <td>-0.009649</td>\n",
              "    </tr>\n",
              "    <tr>\n",
              "      <th>2017-01-04 00:00:00+05:30</th>\n",
              "      <td>0.034547</td>\n",
              "      <td>-0.013688</td>\n",
              "      <td>-0.006911</td>\n",
              "      <td>-0.001565</td>\n",
              "      <td>0.018416</td>\n",
              "    </tr>\n",
              "    <tr>\n",
              "      <th>2017-01-05 00:00:00+05:30</th>\n",
              "      <td>0.001193</td>\n",
              "      <td>0.031942</td>\n",
              "      <td>0.004698</td>\n",
              "      <td>0.004207</td>\n",
              "      <td>0.010092</td>\n",
              "    </tr>\n",
              "    <tr>\n",
              "      <th>2017-01-06 00:00:00+05:30</th>\n",
              "      <td>0.016081</td>\n",
              "      <td>-0.023673</td>\n",
              "      <td>0.010172</td>\n",
              "      <td>0.004231</td>\n",
              "      <td>-0.021753</td>\n",
              "    </tr>\n",
              "    <tr>\n",
              "      <th>...</th>\n",
              "      <td>...</td>\n",
              "      <td>...</td>\n",
              "      <td>...</td>\n",
              "      <td>...</td>\n",
              "      <td>...</td>\n",
              "    </tr>\n",
              "    <tr>\n",
              "      <th>2018-12-21 00:00:00+05:30</th>\n",
              "      <td>-0.007536</td>\n",
              "      <td>-0.000058</td>\n",
              "      <td>-0.016100</td>\n",
              "      <td>-0.013217</td>\n",
              "      <td>-0.033458</td>\n",
              "    </tr>\n",
              "    <tr>\n",
              "      <th>2018-12-24 00:00:00+05:30</th>\n",
              "      <td>-0.007119</td>\n",
              "      <td>-0.010169</td>\n",
              "      <td>-0.006170</td>\n",
              "      <td>-0.023838</td>\n",
              "      <td>0.014281</td>\n",
              "    </tr>\n",
              "    <tr>\n",
              "      <th>2018-12-26 00:00:00+05:30</th>\n",
              "      <td>-0.006692</td>\n",
              "      <td>0.000975</td>\n",
              "      <td>-0.003741</td>\n",
              "      <td>0.016402</td>\n",
              "      <td>-0.001684</td>\n",
              "    </tr>\n",
              "    <tr>\n",
              "      <th>2018-12-27 00:00:00+05:30</th>\n",
              "      <td>-0.008662</td>\n",
              "      <td>0.007692</td>\n",
              "      <td>-0.004387</td>\n",
              "      <td>0.008017</td>\n",
              "      <td>0.003986</td>\n",
              "    </tr>\n",
              "    <tr>\n",
              "      <th>2018-12-28 00:00:00+05:30</th>\n",
              "      <td>-0.002427</td>\n",
              "      <td>0.018418</td>\n",
              "      <td>0.007511</td>\n",
              "      <td>0.015958</td>\n",
              "      <td>0.007940</td>\n",
              "    </tr>\n",
              "  </tbody>\n",
              "</table>\n",
              "<p>493 rows × 5 columns</p>\n",
              "</div>\n",
              "      <button class=\"colab-df-convert\" onclick=\"convertToInteractive('df-d6702a36-3b4e-4d9b-b530-507625250035')\"\n",
              "              title=\"Convert this dataframe to an interactive table.\"\n",
              "              style=\"display:none;\">\n",
              "        \n",
              "  <svg xmlns=\"http://www.w3.org/2000/svg\" height=\"24px\"viewBox=\"0 0 24 24\"\n",
              "       width=\"24px\">\n",
              "    <path d=\"M0 0h24v24H0V0z\" fill=\"none\"/>\n",
              "    <path d=\"M18.56 5.44l.94 2.06.94-2.06 2.06-.94-2.06-.94-.94-2.06-.94 2.06-2.06.94zm-11 1L8.5 8.5l.94-2.06 2.06-.94-2.06-.94L8.5 2.5l-.94 2.06-2.06.94zm10 10l.94 2.06.94-2.06 2.06-.94-2.06-.94-.94-2.06-.94 2.06-2.06.94z\"/><path d=\"M17.41 7.96l-1.37-1.37c-.4-.4-.92-.59-1.43-.59-.52 0-1.04.2-1.43.59L10.3 9.45l-7.72 7.72c-.78.78-.78 2.05 0 2.83L4 21.41c.39.39.9.59 1.41.59.51 0 1.02-.2 1.41-.59l7.78-7.78 2.81-2.81c.8-.78.8-2.07 0-2.86zM5.41 20L4 18.59l7.72-7.72 1.47 1.35L5.41 20z\"/>\n",
              "  </svg>\n",
              "      </button>\n",
              "      \n",
              "  <style>\n",
              "    .colab-df-container {\n",
              "      display:flex;\n",
              "      flex-wrap:wrap;\n",
              "      gap: 12px;\n",
              "    }\n",
              "\n",
              "    .colab-df-convert {\n",
              "      background-color: #E8F0FE;\n",
              "      border: none;\n",
              "      border-radius: 50%;\n",
              "      cursor: pointer;\n",
              "      display: none;\n",
              "      fill: #1967D2;\n",
              "      height: 32px;\n",
              "      padding: 0 0 0 0;\n",
              "      width: 32px;\n",
              "    }\n",
              "\n",
              "    .colab-df-convert:hover {\n",
              "      background-color: #E2EBFA;\n",
              "      box-shadow: 0px 1px 2px rgba(60, 64, 67, 0.3), 0px 1px 3px 1px rgba(60, 64, 67, 0.15);\n",
              "      fill: #174EA6;\n",
              "    }\n",
              "\n",
              "    [theme=dark] .colab-df-convert {\n",
              "      background-color: #3B4455;\n",
              "      fill: #D2E3FC;\n",
              "    }\n",
              "\n",
              "    [theme=dark] .colab-df-convert:hover {\n",
              "      background-color: #434B5C;\n",
              "      box-shadow: 0px 1px 3px 1px rgba(0, 0, 0, 0.15);\n",
              "      filter: drop-shadow(0px 1px 2px rgba(0, 0, 0, 0.3));\n",
              "      fill: #FFFFFF;\n",
              "    }\n",
              "  </style>\n",
              "\n",
              "      <script>\n",
              "        const buttonEl =\n",
              "          document.querySelector('#df-d6702a36-3b4e-4d9b-b530-507625250035 button.colab-df-convert');\n",
              "        buttonEl.style.display =\n",
              "          google.colab.kernel.accessAllowed ? 'block' : 'none';\n",
              "\n",
              "        async function convertToInteractive(key) {\n",
              "          const element = document.querySelector('#df-d6702a36-3b4e-4d9b-b530-507625250035');\n",
              "          const dataTable =\n",
              "            await google.colab.kernel.invokeFunction('convertToInteractive',\n",
              "                                                     [key], {});\n",
              "          if (!dataTable) return;\n",
              "\n",
              "          const docLinkHtml = 'Like what you see? Visit the ' +\n",
              "            '<a target=\"_blank\" href=https://colab.research.google.com/notebooks/data_table.ipynb>data table notebook</a>'\n",
              "            + ' to learn more about interactive tables.';\n",
              "          element.innerHTML = '';\n",
              "          dataTable['output_type'] = 'display_data';\n",
              "          await google.colab.output.renderOutput(dataTable, element);\n",
              "          const docLink = document.createElement('div');\n",
              "          docLink.innerHTML = docLinkHtml;\n",
              "          element.appendChild(docLink);\n",
              "        }\n",
              "      </script>\n",
              "    </div>\n",
              "  </div>\n",
              "  "
            ]
          },
          "metadata": {},
          "execution_count": 5
        }
      ]
    },
    {
      "cell_type": "code",
      "source": [
        "mean_daily_returns=returns.mean()\n",
        "mean_daily_returns"
      ],
      "metadata": {
        "id": "kLe27rigvIqN",
        "outputId": "5396d7fc-2caf-4d15-a073-fe043012a200",
        "colab": {
          "base_uri": "https://localhost:8080/"
        }
      },
      "execution_count": null,
      "outputs": [
        {
          "output_type": "execute_result",
          "data": {
            "text/plain": [
              "ASHOKLEY.NS      0.000825\n",
              "BAJFINANCE.NS    0.002478\n",
              "BRITANNIA.NS     0.001672\n",
              "HDFC.NS          0.001127\n",
              "WIPRO.NS         0.000783\n",
              "dtype: float64"
            ]
          },
          "metadata": {},
          "execution_count": 6
        }
      ]
    },
    {
      "cell_type": "code",
      "source": [
        "cov_matrix=returns.cov()\n",
        "cov_matrix"
      ],
      "metadata": {
        "id": "6KVnkCEzvIs1",
        "outputId": "3ba9b7fe-5e7b-4ca5-c70f-00ef6af5dc8f",
        "colab": {
          "base_uri": "https://localhost:8080/",
          "height": 206
        }
      },
      "execution_count": null,
      "outputs": [
        {
          "output_type": "execute_result",
          "data": {
            "text/plain": [
              "               ASHOKLEY.NS  BAJFINANCE.NS  BRITANNIA.NS   HDFC.NS  WIPRO.NS\n",
              "ASHOKLEY.NS       0.000466       0.000124      0.000057  0.000046  0.000010\n",
              "BAJFINANCE.NS     0.000124       0.000435      0.000072  0.000097  0.000015\n",
              "BRITANNIA.NS      0.000057       0.000072      0.000166  0.000043  0.000015\n",
              "HDFC.NS           0.000046       0.000097      0.000043  0.000188  0.000009\n",
              "WIPRO.NS          0.000010       0.000015      0.000015  0.000009  0.000169"
            ],
            "text/html": [
              "\n",
              "  <div id=\"df-2c043f08-ab07-4ee8-beac-70719a969bf1\">\n",
              "    <div class=\"colab-df-container\">\n",
              "      <div>\n",
              "<style scoped>\n",
              "    .dataframe tbody tr th:only-of-type {\n",
              "        vertical-align: middle;\n",
              "    }\n",
              "\n",
              "    .dataframe tbody tr th {\n",
              "        vertical-align: top;\n",
              "    }\n",
              "\n",
              "    .dataframe thead th {\n",
              "        text-align: right;\n",
              "    }\n",
              "</style>\n",
              "<table border=\"1\" class=\"dataframe\">\n",
              "  <thead>\n",
              "    <tr style=\"text-align: right;\">\n",
              "      <th></th>\n",
              "      <th>ASHOKLEY.NS</th>\n",
              "      <th>BAJFINANCE.NS</th>\n",
              "      <th>BRITANNIA.NS</th>\n",
              "      <th>HDFC.NS</th>\n",
              "      <th>WIPRO.NS</th>\n",
              "    </tr>\n",
              "  </thead>\n",
              "  <tbody>\n",
              "    <tr>\n",
              "      <th>ASHOKLEY.NS</th>\n",
              "      <td>0.000466</td>\n",
              "      <td>0.000124</td>\n",
              "      <td>0.000057</td>\n",
              "      <td>0.000046</td>\n",
              "      <td>0.000010</td>\n",
              "    </tr>\n",
              "    <tr>\n",
              "      <th>BAJFINANCE.NS</th>\n",
              "      <td>0.000124</td>\n",
              "      <td>0.000435</td>\n",
              "      <td>0.000072</td>\n",
              "      <td>0.000097</td>\n",
              "      <td>0.000015</td>\n",
              "    </tr>\n",
              "    <tr>\n",
              "      <th>BRITANNIA.NS</th>\n",
              "      <td>0.000057</td>\n",
              "      <td>0.000072</td>\n",
              "      <td>0.000166</td>\n",
              "      <td>0.000043</td>\n",
              "      <td>0.000015</td>\n",
              "    </tr>\n",
              "    <tr>\n",
              "      <th>HDFC.NS</th>\n",
              "      <td>0.000046</td>\n",
              "      <td>0.000097</td>\n",
              "      <td>0.000043</td>\n",
              "      <td>0.000188</td>\n",
              "      <td>0.000009</td>\n",
              "    </tr>\n",
              "    <tr>\n",
              "      <th>WIPRO.NS</th>\n",
              "      <td>0.000010</td>\n",
              "      <td>0.000015</td>\n",
              "      <td>0.000015</td>\n",
              "      <td>0.000009</td>\n",
              "      <td>0.000169</td>\n",
              "    </tr>\n",
              "  </tbody>\n",
              "</table>\n",
              "</div>\n",
              "      <button class=\"colab-df-convert\" onclick=\"convertToInteractive('df-2c043f08-ab07-4ee8-beac-70719a969bf1')\"\n",
              "              title=\"Convert this dataframe to an interactive table.\"\n",
              "              style=\"display:none;\">\n",
              "        \n",
              "  <svg xmlns=\"http://www.w3.org/2000/svg\" height=\"24px\"viewBox=\"0 0 24 24\"\n",
              "       width=\"24px\">\n",
              "    <path d=\"M0 0h24v24H0V0z\" fill=\"none\"/>\n",
              "    <path d=\"M18.56 5.44l.94 2.06.94-2.06 2.06-.94-2.06-.94-.94-2.06-.94 2.06-2.06.94zm-11 1L8.5 8.5l.94-2.06 2.06-.94-2.06-.94L8.5 2.5l-.94 2.06-2.06.94zm10 10l.94 2.06.94-2.06 2.06-.94-2.06-.94-.94-2.06-.94 2.06-2.06.94z\"/><path d=\"M17.41 7.96l-1.37-1.37c-.4-.4-.92-.59-1.43-.59-.52 0-1.04.2-1.43.59L10.3 9.45l-7.72 7.72c-.78.78-.78 2.05 0 2.83L4 21.41c.39.39.9.59 1.41.59.51 0 1.02-.2 1.41-.59l7.78-7.78 2.81-2.81c.8-.78.8-2.07 0-2.86zM5.41 20L4 18.59l7.72-7.72 1.47 1.35L5.41 20z\"/>\n",
              "  </svg>\n",
              "      </button>\n",
              "      \n",
              "  <style>\n",
              "    .colab-df-container {\n",
              "      display:flex;\n",
              "      flex-wrap:wrap;\n",
              "      gap: 12px;\n",
              "    }\n",
              "\n",
              "    .colab-df-convert {\n",
              "      background-color: #E8F0FE;\n",
              "      border: none;\n",
              "      border-radius: 50%;\n",
              "      cursor: pointer;\n",
              "      display: none;\n",
              "      fill: #1967D2;\n",
              "      height: 32px;\n",
              "      padding: 0 0 0 0;\n",
              "      width: 32px;\n",
              "    }\n",
              "\n",
              "    .colab-df-convert:hover {\n",
              "      background-color: #E2EBFA;\n",
              "      box-shadow: 0px 1px 2px rgba(60, 64, 67, 0.3), 0px 1px 3px 1px rgba(60, 64, 67, 0.15);\n",
              "      fill: #174EA6;\n",
              "    }\n",
              "\n",
              "    [theme=dark] .colab-df-convert {\n",
              "      background-color: #3B4455;\n",
              "      fill: #D2E3FC;\n",
              "    }\n",
              "\n",
              "    [theme=dark] .colab-df-convert:hover {\n",
              "      background-color: #434B5C;\n",
              "      box-shadow: 0px 1px 3px 1px rgba(0, 0, 0, 0.15);\n",
              "      filter: drop-shadow(0px 1px 2px rgba(0, 0, 0, 0.3));\n",
              "      fill: #FFFFFF;\n",
              "    }\n",
              "  </style>\n",
              "\n",
              "      <script>\n",
              "        const buttonEl =\n",
              "          document.querySelector('#df-2c043f08-ab07-4ee8-beac-70719a969bf1 button.colab-df-convert');\n",
              "        buttonEl.style.display =\n",
              "          google.colab.kernel.accessAllowed ? 'block' : 'none';\n",
              "\n",
              "        async function convertToInteractive(key) {\n",
              "          const element = document.querySelector('#df-2c043f08-ab07-4ee8-beac-70719a969bf1');\n",
              "          const dataTable =\n",
              "            await google.colab.kernel.invokeFunction('convertToInteractive',\n",
              "                                                     [key], {});\n",
              "          if (!dataTable) return;\n",
              "\n",
              "          const docLinkHtml = 'Like what you see? Visit the ' +\n",
              "            '<a target=\"_blank\" href=https://colab.research.google.com/notebooks/data_table.ipynb>data table notebook</a>'\n",
              "            + ' to learn more about interactive tables.';\n",
              "          element.innerHTML = '';\n",
              "          dataTable['output_type'] = 'display_data';\n",
              "          await google.colab.output.renderOutput(dataTable, element);\n",
              "          const docLink = document.createElement('div');\n",
              "          docLink.innerHTML = docLinkHtml;\n",
              "          element.appendChild(docLink);\n",
              "        }\n",
              "      </script>\n",
              "    </div>\n",
              "  </div>\n",
              "  "
            ]
          },
          "metadata": {},
          "execution_count": 7
        }
      ]
    },
    {
      "cell_type": "code",
      "source": [
        "num_portfolios = 30000\n",
        "results = np.zeros((3+len(stocks),num_portfolios))"
      ],
      "metadata": {
        "id": "wwHjuZ6ovIvx"
      },
      "execution_count": null,
      "outputs": []
    },
    {
      "cell_type": "markdown",
      "source": [
        "# **Optimization of the Weights**"
      ],
      "metadata": {
        "id": "sanlD8Hk5HDW"
      }
    },
    {
      "cell_type": "code",
      "source": [
        "for i in range(num_portfolios):\n",
        "    \n",
        "    weights = np.array(np.random.random(5))\n",
        "    \n",
        "    weights /= np.sum(weights)\n",
        "    \n",
        "    #calculate portfolio return and volatility\n",
        "    portfolio_return = np.sum(mean_daily_returns * weights) * 252\n",
        "    portfolio_std_dev = np.sqrt(np.dot(weights.T,np.dot(cov_matrix, weights))) * np.sqrt(252)\n",
        "    \n",
        "    #store results in results array\n",
        "    results[0,i] = portfolio_return\n",
        "    results[1,i] = portfolio_std_dev\n",
        "    #store Sharpe Ratio (return / volatility) - risk free rate element excluded for simplicity\n",
        "    results[2,i] = results[0,i] / results[1,i]\n",
        "    #iterate through the weight vector and add data to results array\n",
        "    for j in range(len(weights)):\n",
        "        results[j+3,i] = weights[j]\n",
        "#convert results array to Pandas DataFrame\n",
        "results_frame = pd.DataFrame(results.T,columns=['ret','stdev','sharpe',stocks[0],stocks[1],stocks[2],stocks[3],stocks[4]])\n",
        "results_frame"
      ],
      "metadata": {
        "id": "_WK-jVL3vIyr",
        "outputId": "bab8595e-ac05-40dd-ddf7-e312a597aff1",
        "colab": {
          "base_uri": "https://localhost:8080/",
          "height": 424
        }
      },
      "execution_count": null,
      "outputs": [
        {
          "output_type": "execute_result",
          "data": {
            "text/plain": [
              "            ret     stdev    sharpe   HDFC.NS  ASHOKLEY.NS  BAJFINANCE.NS  \\\n",
              "0      0.500649  0.207769  2.409646  0.029687     0.481444       0.416101   \n",
              "1      0.351209  0.168947  2.078808  0.256465     0.226460       0.163208   \n",
              "2      0.371183  0.157136  2.362172  0.148858     0.255921       0.269319   \n",
              "3      0.389522  0.164099  2.373705  0.013636     0.293885       0.164227   \n",
              "4      0.424851  0.187377  2.267368  0.205858     0.311052       0.376546   \n",
              "...         ...       ...       ...       ...          ...            ...   \n",
              "29995  0.336123  0.179377  1.873837  0.337461     0.138993       0.248456   \n",
              "29996  0.364777  0.171588  2.125893  0.209672     0.314480       0.104695   \n",
              "29997  0.411642  0.212362  1.938398  0.297931     0.436561       0.086722   \n",
              "29998  0.347594  0.139403  2.493455  0.004636     0.132420       0.368842   \n",
              "29999  0.340096  0.142637  2.384345  0.112345     0.175837       0.212307   \n",
              "\n",
              "       BRITANNIA.NS  WIPRO.NS  \n",
              "0          0.047323  0.025445  \n",
              "1          0.205912  0.147954  \n",
              "2          0.029655  0.296246  \n",
              "3          0.342883  0.185370  \n",
              "4          0.093409  0.013136  \n",
              "...             ...       ...  \n",
              "29995      0.232889  0.042200  \n",
              "29996      0.085238  0.285914  \n",
              "29997      0.060002  0.118783  \n",
              "29998      0.126745  0.367358  \n",
              "29999      0.217842  0.281669  \n",
              "\n",
              "[30000 rows x 8 columns]"
            ],
            "text/html": [
              "\n",
              "  <div id=\"df-c22767a5-b525-4d09-8e7f-78165a3e7639\">\n",
              "    <div class=\"colab-df-container\">\n",
              "      <div>\n",
              "<style scoped>\n",
              "    .dataframe tbody tr th:only-of-type {\n",
              "        vertical-align: middle;\n",
              "    }\n",
              "\n",
              "    .dataframe tbody tr th {\n",
              "        vertical-align: top;\n",
              "    }\n",
              "\n",
              "    .dataframe thead th {\n",
              "        text-align: right;\n",
              "    }\n",
              "</style>\n",
              "<table border=\"1\" class=\"dataframe\">\n",
              "  <thead>\n",
              "    <tr style=\"text-align: right;\">\n",
              "      <th></th>\n",
              "      <th>ret</th>\n",
              "      <th>stdev</th>\n",
              "      <th>sharpe</th>\n",
              "      <th>HDFC.NS</th>\n",
              "      <th>ASHOKLEY.NS</th>\n",
              "      <th>BAJFINANCE.NS</th>\n",
              "      <th>BRITANNIA.NS</th>\n",
              "      <th>WIPRO.NS</th>\n",
              "    </tr>\n",
              "  </thead>\n",
              "  <tbody>\n",
              "    <tr>\n",
              "      <th>0</th>\n",
              "      <td>0.500649</td>\n",
              "      <td>0.207769</td>\n",
              "      <td>2.409646</td>\n",
              "      <td>0.029687</td>\n",
              "      <td>0.481444</td>\n",
              "      <td>0.416101</td>\n",
              "      <td>0.047323</td>\n",
              "      <td>0.025445</td>\n",
              "    </tr>\n",
              "    <tr>\n",
              "      <th>1</th>\n",
              "      <td>0.351209</td>\n",
              "      <td>0.168947</td>\n",
              "      <td>2.078808</td>\n",
              "      <td>0.256465</td>\n",
              "      <td>0.226460</td>\n",
              "      <td>0.163208</td>\n",
              "      <td>0.205912</td>\n",
              "      <td>0.147954</td>\n",
              "    </tr>\n",
              "    <tr>\n",
              "      <th>2</th>\n",
              "      <td>0.371183</td>\n",
              "      <td>0.157136</td>\n",
              "      <td>2.362172</td>\n",
              "      <td>0.148858</td>\n",
              "      <td>0.255921</td>\n",
              "      <td>0.269319</td>\n",
              "      <td>0.029655</td>\n",
              "      <td>0.296246</td>\n",
              "    </tr>\n",
              "    <tr>\n",
              "      <th>3</th>\n",
              "      <td>0.389522</td>\n",
              "      <td>0.164099</td>\n",
              "      <td>2.373705</td>\n",
              "      <td>0.013636</td>\n",
              "      <td>0.293885</td>\n",
              "      <td>0.164227</td>\n",
              "      <td>0.342883</td>\n",
              "      <td>0.185370</td>\n",
              "    </tr>\n",
              "    <tr>\n",
              "      <th>4</th>\n",
              "      <td>0.424851</td>\n",
              "      <td>0.187377</td>\n",
              "      <td>2.267368</td>\n",
              "      <td>0.205858</td>\n",
              "      <td>0.311052</td>\n",
              "      <td>0.376546</td>\n",
              "      <td>0.093409</td>\n",
              "      <td>0.013136</td>\n",
              "    </tr>\n",
              "    <tr>\n",
              "      <th>...</th>\n",
              "      <td>...</td>\n",
              "      <td>...</td>\n",
              "      <td>...</td>\n",
              "      <td>...</td>\n",
              "      <td>...</td>\n",
              "      <td>...</td>\n",
              "      <td>...</td>\n",
              "      <td>...</td>\n",
              "    </tr>\n",
              "    <tr>\n",
              "      <th>29995</th>\n",
              "      <td>0.336123</td>\n",
              "      <td>0.179377</td>\n",
              "      <td>1.873837</td>\n",
              "      <td>0.337461</td>\n",
              "      <td>0.138993</td>\n",
              "      <td>0.248456</td>\n",
              "      <td>0.232889</td>\n",
              "      <td>0.042200</td>\n",
              "    </tr>\n",
              "    <tr>\n",
              "      <th>29996</th>\n",
              "      <td>0.364777</td>\n",
              "      <td>0.171588</td>\n",
              "      <td>2.125893</td>\n",
              "      <td>0.209672</td>\n",
              "      <td>0.314480</td>\n",
              "      <td>0.104695</td>\n",
              "      <td>0.085238</td>\n",
              "      <td>0.285914</td>\n",
              "    </tr>\n",
              "    <tr>\n",
              "      <th>29997</th>\n",
              "      <td>0.411642</td>\n",
              "      <td>0.212362</td>\n",
              "      <td>1.938398</td>\n",
              "      <td>0.297931</td>\n",
              "      <td>0.436561</td>\n",
              "      <td>0.086722</td>\n",
              "      <td>0.060002</td>\n",
              "      <td>0.118783</td>\n",
              "    </tr>\n",
              "    <tr>\n",
              "      <th>29998</th>\n",
              "      <td>0.347594</td>\n",
              "      <td>0.139403</td>\n",
              "      <td>2.493455</td>\n",
              "      <td>0.004636</td>\n",
              "      <td>0.132420</td>\n",
              "      <td>0.368842</td>\n",
              "      <td>0.126745</td>\n",
              "      <td>0.367358</td>\n",
              "    </tr>\n",
              "    <tr>\n",
              "      <th>29999</th>\n",
              "      <td>0.340096</td>\n",
              "      <td>0.142637</td>\n",
              "      <td>2.384345</td>\n",
              "      <td>0.112345</td>\n",
              "      <td>0.175837</td>\n",
              "      <td>0.212307</td>\n",
              "      <td>0.217842</td>\n",
              "      <td>0.281669</td>\n",
              "    </tr>\n",
              "  </tbody>\n",
              "</table>\n",
              "<p>30000 rows × 8 columns</p>\n",
              "</div>\n",
              "      <button class=\"colab-df-convert\" onclick=\"convertToInteractive('df-c22767a5-b525-4d09-8e7f-78165a3e7639')\"\n",
              "              title=\"Convert this dataframe to an interactive table.\"\n",
              "              style=\"display:none;\">\n",
              "        \n",
              "  <svg xmlns=\"http://www.w3.org/2000/svg\" height=\"24px\"viewBox=\"0 0 24 24\"\n",
              "       width=\"24px\">\n",
              "    <path d=\"M0 0h24v24H0V0z\" fill=\"none\"/>\n",
              "    <path d=\"M18.56 5.44l.94 2.06.94-2.06 2.06-.94-2.06-.94-.94-2.06-.94 2.06-2.06.94zm-11 1L8.5 8.5l.94-2.06 2.06-.94-2.06-.94L8.5 2.5l-.94 2.06-2.06.94zm10 10l.94 2.06.94-2.06 2.06-.94-2.06-.94-.94-2.06-.94 2.06-2.06.94z\"/><path d=\"M17.41 7.96l-1.37-1.37c-.4-.4-.92-.59-1.43-.59-.52 0-1.04.2-1.43.59L10.3 9.45l-7.72 7.72c-.78.78-.78 2.05 0 2.83L4 21.41c.39.39.9.59 1.41.59.51 0 1.02-.2 1.41-.59l7.78-7.78 2.81-2.81c.8-.78.8-2.07 0-2.86zM5.41 20L4 18.59l7.72-7.72 1.47 1.35L5.41 20z\"/>\n",
              "  </svg>\n",
              "      </button>\n",
              "      \n",
              "  <style>\n",
              "    .colab-df-container {\n",
              "      display:flex;\n",
              "      flex-wrap:wrap;\n",
              "      gap: 12px;\n",
              "    }\n",
              "\n",
              "    .colab-df-convert {\n",
              "      background-color: #E8F0FE;\n",
              "      border: none;\n",
              "      border-radius: 50%;\n",
              "      cursor: pointer;\n",
              "      display: none;\n",
              "      fill: #1967D2;\n",
              "      height: 32px;\n",
              "      padding: 0 0 0 0;\n",
              "      width: 32px;\n",
              "    }\n",
              "\n",
              "    .colab-df-convert:hover {\n",
              "      background-color: #E2EBFA;\n",
              "      box-shadow: 0px 1px 2px rgba(60, 64, 67, 0.3), 0px 1px 3px 1px rgba(60, 64, 67, 0.15);\n",
              "      fill: #174EA6;\n",
              "    }\n",
              "\n",
              "    [theme=dark] .colab-df-convert {\n",
              "      background-color: #3B4455;\n",
              "      fill: #D2E3FC;\n",
              "    }\n",
              "\n",
              "    [theme=dark] .colab-df-convert:hover {\n",
              "      background-color: #434B5C;\n",
              "      box-shadow: 0px 1px 3px 1px rgba(0, 0, 0, 0.15);\n",
              "      filter: drop-shadow(0px 1px 2px rgba(0, 0, 0, 0.3));\n",
              "      fill: #FFFFFF;\n",
              "    }\n",
              "  </style>\n",
              "\n",
              "      <script>\n",
              "        const buttonEl =\n",
              "          document.querySelector('#df-c22767a5-b525-4d09-8e7f-78165a3e7639 button.colab-df-convert');\n",
              "        buttonEl.style.display =\n",
              "          google.colab.kernel.accessAllowed ? 'block' : 'none';\n",
              "\n",
              "        async function convertToInteractive(key) {\n",
              "          const element = document.querySelector('#df-c22767a5-b525-4d09-8e7f-78165a3e7639');\n",
              "          const dataTable =\n",
              "            await google.colab.kernel.invokeFunction('convertToInteractive',\n",
              "                                                     [key], {});\n",
              "          if (!dataTable) return;\n",
              "\n",
              "          const docLinkHtml = 'Like what you see? Visit the ' +\n",
              "            '<a target=\"_blank\" href=https://colab.research.google.com/notebooks/data_table.ipynb>data table notebook</a>'\n",
              "            + ' to learn more about interactive tables.';\n",
              "          element.innerHTML = '';\n",
              "          dataTable['output_type'] = 'display_data';\n",
              "          await google.colab.output.renderOutput(dataTable, element);\n",
              "          const docLink = document.createElement('div');\n",
              "          docLink.innerHTML = docLinkHtml;\n",
              "          element.appendChild(docLink);\n",
              "        }\n",
              "      </script>\n",
              "    </div>\n",
              "  </div>\n",
              "  "
            ]
          },
          "metadata": {},
          "execution_count": 9
        }
      ]
    },
    {
      "cell_type": "code",
      "source": [
        "max_sharpe_point = results_frame.iloc[results_frame['sharpe'].idxmax()]\n",
        "max_sharpe_point"
      ],
      "metadata": {
        "id": "d1QIoFNpvI1a",
        "outputId": "ab72fe6a-8285-48a6-ce96-02f762153e51",
        "colab": {
          "base_uri": "https://localhost:8080/"
        }
      },
      "execution_count": null,
      "outputs": [
        {
          "output_type": "execute_result",
          "data": {
            "text/plain": [
              "ret              0.408091\n",
              "stdev            0.155989\n",
              "sharpe           2.616150\n",
              "HDFC.NS          0.008221\n",
              "ASHOKLEY.NS      0.241295\n",
              "BAJFINANCE.NS    0.428651\n",
              "BRITANNIA.NS     0.133271\n",
              "WIPRO.NS         0.188563\n",
              "Name: 13827, dtype: float64"
            ]
          },
          "metadata": {},
          "execution_count": 10
        }
      ]
    },
    {
      "cell_type": "code",
      "source": [
        "min_vol_point = results_frame.iloc[results_frame['stdev'].idxmin()]\n",
        "min_vol_point"
      ],
      "metadata": {
        "id": "cSDWlCLQvI4K",
        "outputId": "016044c3-1d43-4445-b47d-a9b5730d93a1",
        "colab": {
          "base_uri": "https://localhost:8080/"
        }
      },
      "execution_count": null,
      "outputs": [
        {
          "output_type": "execute_result",
          "data": {
            "text/plain": [
              "ret              0.290234\n",
              "stdev            0.132018\n",
              "sharpe           2.198454\n",
              "HDFC.NS          0.065523\n",
              "ASHOKLEY.NS      0.014776\n",
              "BAJFINANCE.NS    0.284475\n",
              "BRITANNIA.NS     0.255594\n",
              "WIPRO.NS         0.379633\n",
              "Name: 1263, dtype: float64"
            ]
          },
          "metadata": {},
          "execution_count": 11
        }
      ]
    },
    {
      "cell_type": "code",
      "source": [
        "#create scatter plot coloured by Sharpe Ratio\n",
        "plt.scatter(results_frame.stdev,results_frame.ret,c=results_frame.sharpe,cmap='RdYlBu')\n",
        "plt.xlabel('Volatility')\n",
        "plt.ylabel('Returns')\n",
        "plt.colorbar()\n",
        "#plot red star to highlight position of portfolio with highest Sharpe Ratio\n",
        "plt.scatter(max_sharpe_point[1],max_sharpe_point[0],marker=(5,1,0),color='r',s=1000)\n",
        "#plot green star to highlight position of minimum variance portfolio\n",
        "plt.scatter(min_vol_point[1],min_vol_point[0],marker=(5,1,0),color='g',s=1000)"
      ],
      "metadata": {
        "id": "V9sc0s9vvI7z",
        "outputId": "f9761c80-1080-4004-bca4-30ee798dfe7c",
        "colab": {
          "base_uri": "https://localhost:8080/",
          "height": 298
        }
      },
      "execution_count": null,
      "outputs": [
        {
          "output_type": "execute_result",
          "data": {
            "text/plain": [
              "<matplotlib.collections.PathCollection at 0x7f7f2cf27ca0>"
            ]
          },
          "metadata": {},
          "execution_count": 12
        },
        {
          "output_type": "display_data",
          "data": {
            "text/plain": [
              "<Figure size 432x288 with 2 Axes>"
            ],
            "image/png": "[encoded data removed]"
          },
          "metadata": {
            "needs_background": "light"
          }
        }
      ]
    },
    {
      "cell_type": "markdown",
      "source": [
        "# **Testing the Weights for the Following Year**"
      ],
      "metadata": {
        "id": "GxicfNLWv-gL"
      }
    },
    {
      "cell_type": "code",
      "source": [
        "test_df=yf.download(stocks,start='2019-01-01',end='2020-12-31',progress=False)['Adj Close']\n",
        "test_df.sort_index(inplace=True)\n",
        "test_df"
      ],
      "metadata": {
        "id": "31qXzwpyv_cy",
        "outputId": "69106068-e777-463a-dea5-1a9349142ae4",
        "colab": {
          "base_uri": "https://localhost:8080/",
          "height": 455
        }
      },
      "execution_count": null,
      "outputs": [
        {
          "output_type": "execute_result",
          "data": {
            "text/plain": [
              "                           ASHOKLEY.NS  BAJFINANCE.NS  BRITANNIA.NS  \\\n",
              "Date                                                                  \n",
              "2019-01-01 00:00:00+05:30    92.123718    2632.266113   2832.883789   \n",
              "2019-01-02 00:00:00+05:30    89.831863    2589.862061   2845.482422   \n",
              "2019-01-03 00:00:00+05:30    88.214066    2562.269775   2862.873779   \n",
              "2019-01-04 00:00:00+05:30    87.000740    2552.213623   2850.822998   \n",
              "2019-01-07 00:00:00+05:30    83.989861    2529.971436   2870.085693   \n",
              "...                                ...            ...           ...   \n",
              "2020-12-23 00:00:00+05:30    93.608849    5062.258301   3439.009277   \n",
              "2020-12-24 00:00:00+05:30    93.658012    5157.755371   3432.273926   \n",
              "2020-12-28 00:00:00+05:30    93.707191    5176.854980   3418.329590   \n",
              "2020-12-29 00:00:00+05:30    93.412201    5173.273926   3408.606445   \n",
              "2020-12-30 00:00:00+05:30    93.215538    5306.224121   3399.689453   \n",
              "\n",
              "                               HDFC.NS    WIPRO.NS  \n",
              "Date                                                \n",
              "2019-01-01 00:00:00+05:30  1890.450562  240.373917  \n",
              "2019-01-02 00:00:00+05:30  1863.773560  239.564453  \n",
              "2019-01-03 00:00:00+05:30  1822.558228  239.527664  \n",
              "2019-01-04 00:00:00+05:30  1856.198486  238.754974  \n",
              "2019-01-07 00:00:00+05:30  1856.480713  238.607819  \n",
              "...                                ...         ...  \n",
              "2020-12-23 00:00:00+05:30  2351.123535  380.888947  \n",
              "2020-12-24 00:00:00+05:30  2402.097412  377.579468  \n",
              "2020-12-28 00:00:00+05:30  2422.937500  378.270966  \n",
              "2020-12-29 00:00:00+05:30  2464.519043  380.345581  \n",
              "2020-12-30 00:00:00+05:30  2463.638672  379.752838  \n",
              "\n",
              "[493 rows x 5 columns]"
            ],
            "text/html": [
              "\n",
              "  <div id=\"df-525094d1-a90c-4d04-85b9-60aea6c47668\">\n",
              "    <div class=\"colab-df-container\">\n",
              "      <div>\n",
              "<style scoped>\n",
              "    .dataframe tbody tr th:only-of-type {\n",
              "        vertical-align: middle;\n",
              "    }\n",
              "\n",
              "    .dataframe tbody tr th {\n",
              "        vertical-align: top;\n",
              "    }\n",
              "\n",
              "    .dataframe thead th {\n",
              "        text-align: right;\n",
              "    }\n",
              "</style>\n",
              "<table border=\"1\" class=\"dataframe\">\n",
              "  <thead>\n",
              "    <tr style=\"text-align: right;\">\n",
              "      <th></th>\n",
              "      <th>ASHOKLEY.NS</th>\n",
              "      <th>BAJFINANCE.NS</th>\n",
              "      <th>BRITANNIA.NS</th>\n",
              "      <th>HDFC.NS</th>\n",
              "      <th>WIPRO.NS</th>\n",
              "    </tr>\n",
              "    <tr>\n",
              "      <th>Date</th>\n",
              "      <th></th>\n",
              "      <th></th>\n",
              "      <th></th>\n",
              "      <th></th>\n",
              "      <th></th>\n",
              "    </tr>\n",
              "  </thead>\n",
              "  <tbody>\n",
              "    <tr>\n",
              "      <th>2019-01-01 00:00:00+05:30</th>\n",
              "      <td>92.123718</td>\n",
              "      <td>2632.266113</td>\n",
              "      <td>2832.883789</td>\n",
              "      <td>1890.450562</td>\n",
              "      <td>240.373917</td>\n",
              "    </tr>\n",
              "    <tr>\n",
              "      <th>2019-01-02 00:00:00+05:30</th>\n",
              "      <td>89.831863</td>\n",
              "      <td>2589.862061</td>\n",
              "      <td>2845.482422</td>\n",
              "      <td>1863.773560</td>\n",
              "      <td>239.564453</td>\n",
              "    </tr>\n",
              "    <tr>\n",
              "      <th>2019-01-03 00:00:00+05:30</th>\n",
              "      <td>88.214066</td>\n",
              "      <td>2562.269775</td>\n",
              "      <td>2862.873779</td>\n",
              "      <td>1822.558228</td>\n",
              "      <td>239.527664</td>\n",
              "    </tr>\n",
              "    <tr>\n",
              "      <th>2019-01-04 00:00:00+05:30</th>\n",
              "      <td>87.000740</td>\n",
              "      <td>2552.213623</td>\n",
              "      <td>2850.822998</td>\n",
              "      <td>1856.198486</td>\n",
              "      <td>238.754974</td>\n",
              "    </tr>\n",
              "    <tr>\n",
              "      <th>2019-01-07 00:00:00+05:30</th>\n",
              "      <td>83.989861</td>\n",
              "      <td>2529.971436</td>\n",
              "      <td>2870.085693</td>\n",
              "      <td>1856.480713</td>\n",
              "      <td>238.607819</td>\n",
              "    </tr>\n",
              "    <tr>\n",
              "      <th>...</th>\n",
              "      <td>...</td>\n",
              "      <td>...</td>\n",
              "      <td>...</td>\n",
              "      <td>...</td>\n",
              "      <td>...</td>\n",
              "    </tr>\n",
              "    <tr>\n",
              "      <th>2020-12-23 00:00:00+05:30</th>\n",
              "      <td>93.608849</td>\n",
              "      <td>5062.258301</td>\n",
              "      <td>3439.009277</td>\n",
              "      <td>2351.123535</td>\n",
              "      <td>380.888947</td>\n",
              "    </tr>\n",
              "    <tr>\n",
              "      <th>2020-12-24 00:00:00+05:30</th>\n",
              "      <td>93.658012</td>\n",
              "      <td>5157.755371</td>\n",
              "      <td>3432.273926</td>\n",
              "      <td>2402.097412</td>\n",
              "      <td>377.579468</td>\n",
              "    </tr>\n",
              "    <tr>\n",
              "      <th>2020-12-28 00:00:00+05:30</th>\n",
              "      <td>93.707191</td>\n",
              "      <td>5176.854980</td>\n",
              "      <td>3418.329590</td>\n",
              "      <td>2422.937500</td>\n",
              "      <td>378.270966</td>\n",
              "    </tr>\n",
              "    <tr>\n",
              "      <th>2020-12-29 00:00:00+05:30</th>\n",
              "      <td>93.412201</td>\n",
              "      <td>5173.273926</td>\n",
              "      <td>3408.606445</td>\n",
              "      <td>2464.519043</td>\n",
              "      <td>380.345581</td>\n",
              "    </tr>\n",
              "    <tr>\n",
              "      <th>2020-12-30 00:00:00+05:30</th>\n",
              "      <td>93.215538</td>\n",
              "      <td>5306.224121</td>\n",
              "      <td>3399.689453</td>\n",
              "      <td>2463.638672</td>\n",
              "      <td>379.752838</td>\n",
              "    </tr>\n",
              "  </tbody>\n",
              "</table>\n",
              "<p>493 rows × 5 columns</p>\n",
              "</div>\n",
              "      <button class=\"colab-df-convert\" onclick=\"convertToInteractive('df-525094d1-a90c-4d04-85b9-60aea6c47668')\"\n",
              "              title=\"Convert this dataframe to an interactive table.\"\n",
              "              style=\"display:none;\">\n",
              "        \n",
              "  <svg xmlns=\"http://www.w3.org/2000/svg\" height=\"24px\"viewBox=\"0 0 24 24\"\n",
              "       width=\"24px\">\n",
              "    <path d=\"M0 0h24v24H0V0z\" fill=\"none\"/>\n",
              "    <path d=\"M18.56 5.44l.94 2.06.94-2.06 2.06-.94-2.06-.94-.94-2.06-.94 2.06-2.06.94zm-11 1L8.5 8.5l.94-2.06 2.06-.94-2.06-.94L8.5 2.5l-.94 2.06-2.06.94zm10 10l.94 2.06.94-2.06 2.06-.94-2.06-.94-.94-2.06-.94 2.06-2.06.94z\"/><path d=\"M17.41 7.96l-1.37-1.37c-.4-.4-.92-.59-1.43-.59-.52 0-1.04.2-1.43.59L10.3 9.45l-7.72 7.72c-.78.78-.78 2.05 0 2.83L4 21.41c.39.39.9.59 1.41.59.51 0 1.02-.2 1.41-.59l7.78-7.78 2.81-2.81c.8-.78.8-2.07 0-2.86zM5.41 20L4 18.59l7.72-7.72 1.47 1.35L5.41 20z\"/>\n",
              "  </svg>\n",
              "      </button>\n",
              "      \n",
              "  <style>\n",
              "    .colab-df-container {\n",
              "      display:flex;\n",
              "      flex-wrap:wrap;\n",
              "      gap: 12px;\n",
              "    }\n",
              "\n",
              "    .colab-df-convert {\n",
              "      background-color: #E8F0FE;\n",
              "      border: none;\n",
              "      border-radius: 50%;\n",
              "      cursor: pointer;\n",
              "      display: none;\n",
              "      fill: #1967D2;\n",
              "      height: 32px;\n",
              "      padding: 0 0 0 0;\n",
              "      width: 32px;\n",
              "    }\n",
              "\n",
              "    .colab-df-convert:hover {\n",
              "      background-color: #E2EBFA;\n",
              "      box-shadow: 0px 1px 2px rgba(60, 64, 67, 0.3), 0px 1px 3px 1px rgba(60, 64, 67, 0.15);\n",
              "      fill: #174EA6;\n",
              "    }\n",
              "\n",
              "    [theme=dark] .colab-df-convert {\n",
              "      background-color: #3B4455;\n",
              "      fill: #D2E3FC;\n",
              "    }\n",
              "\n",
              "    [theme=dark] .colab-df-convert:hover {\n",
              "      background-color: #434B5C;\n",
              "      box-shadow: 0px 1px 3px 1px rgba(0, 0, 0, 0.15);\n",
              "      filter: drop-shadow(0px 1px 2px rgba(0, 0, 0, 0.3));\n",
              "      fill: #FFFFFF;\n",
              "    }\n",
              "  </style>\n",
              "\n",
              "      <script>\n",
              "        const buttonEl =\n",
              "          document.querySelector('#df-525094d1-a90c-4d04-85b9-60aea6c47668 button.colab-df-convert');\n",
              "        buttonEl.style.display =\n",
              "          google.colab.kernel.accessAllowed ? 'block' : 'none';\n",
              "\n",
              "        async function convertToInteractive(key) {\n",
              "          const element = document.querySelector('#df-525094d1-a90c-4d04-85b9-60aea6c47668');\n",
              "          const dataTable =\n",
              "            await google.colab.kernel.invokeFunction('convertToInteractive',\n",
              "                                                     [key], {});\n",
              "          if (!dataTable) return;\n",
              "\n",
              "          const docLinkHtml = 'Like what you see? Visit the ' +\n",
              "            '<a target=\"_blank\" href=https://colab.research.google.com/notebooks/data_table.ipynb>data table notebook</a>'\n",
              "            + ' to learn more about interactive tables.';\n",
              "          element.innerHTML = '';\n",
              "          dataTable['output_type'] = 'display_data';\n",
              "          await google.colab.output.renderOutput(dataTable, element);\n",
              "          const docLink = document.createElement('div');\n",
              "          docLink.innerHTML = docLinkHtml;\n",
              "          element.appendChild(docLink);\n",
              "        }\n",
              "      </script>\n",
              "    </div>\n",
              "  </div>\n",
              "  "
            ]
          },
          "metadata": {},
          "execution_count": 13
        }
      ]
    },
    {
      "cell_type": "code",
      "source": [
        "test_returns=test_df.pct_change()\n",
        "test_mean_daily_returns=test_returns.mean()\n",
        "test_cov_matrix=test_returns.cov()\n",
        "test_weights=[max_sharpe_point[3],max_sharpe_point[4],max_sharpe_point[5],max_sharpe_point[6],max_sharpe_point[7]]\n",
        "test_weights=np.array(test_weights)\n",
        "test_weights"
      ],
      "metadata": {
        "id": "9unw-7qwwALB",
        "outputId": "9fa256fd-69c4-4ed1-dab6-20f4540b57f0",
        "colab": {
          "base_uri": "https://localhost:8080/"
        }
      },
      "execution_count": null,
      "outputs": [
        {
          "output_type": "execute_result",
          "data": {
            "text/plain": [
              "array([0.00822058, 0.24129491, 0.4286505 , 0.13327063, 0.18856338])"
            ]
          },
          "metadata": {},
          "execution_count": 14
        }
      ]
    },
    {
      "cell_type": "code",
      "source": [
        "test_portfolio_return = np.sum(mean_daily_returns * test_weights) * 252\n",
        "test_portfolio_std_dev = np.sqrt(np.dot(test_weights.T,np.dot(test_cov_matrix, test_weights))) * np.sqrt(252)\n",
        "print('test return is '+str(test_portfolio_return))\n",
        "print('test std dev is '+str(test_portfolio_std_dev))"
      ],
      "metadata": {
        "id": "hbkcpIWewIc0",
        "outputId": "402da720-ff86-49dc-aa45-6916b4999c3b",
        "colab": {
          "base_uri": "https://localhost:8080/"
        }
      },
      "execution_count": null,
      "outputs": [
        {
          "output_type": "stream",
          "name": "stdout",
          "text": [
            "test return is 0.40809117548922974\n",
            "test std dev is 0.2770103089268183\n"
          ]
        }
      ]
    },
    {
      "cell_type": "code",
      "source": [
        "test_sharpe_ratio=test_portfolio_return/test_portfolio_std_dev\n",
        "print('test sharpe ratio is '+str(test_sharpe_ratio))"
      ],
      "metadata": {
        "id": "Jw5Cds_zwInX",
        "outputId": "19f92f9e-f053-4d37-a5c6-3c9fd6208b6b",
        "colab": {
          "base_uri": "https://localhost:8080/"
        }
      },
      "execution_count": null,
      "outputs": [
        {
          "output_type": "stream",
          "name": "stdout",
          "text": [
            "test sharpe ratio is 1.4731985140561714\n"
          ]
        }
      ]
    },
    {
      "cell_type": "markdown",
      "source": [
        "So on testing the portfolio weights on the following year, we see a good sharpe ratio of **1.4732**."
      ],
      "metadata": {
        "id": "cEMPfp105f3t"
      }
    },
    {
      "cell_type": "markdown",
      "source": [
        "# **Impact of Increasing the number of Stocks**"
      ],
      "metadata": {
        "id": "dXe9WaOi5gMb"
      }
    },
    {
      "cell_type": "markdown",
      "source": [
        "As the number of securities added to a portfolio increases, the standard deviation of the portfolio becomes smaller and smaller. Hence an investor can make the portfolio risk arbitrarily small by including a large number of securities with negative or zero correlation in the portfolio."
      ],
      "metadata": {
        "id": "dih12UQ25gP0"
      }
    },
    {
      "cell_type": "markdown",
      "source": [
        "# **Why are calculating the weights by optimization and not giving equal weightage to every stock?**"
      ],
      "metadata": {
        "id": "84hmVuE75gSy"
      }
    },
    {
      "cell_type": "markdown",
      "source": [
        "So suppose if all the stocks are given equal weightage , then the overall portfolio will be dependent equally on each individual stock. So the risk of all the individual stocks have the same impact on the portfolio. whereas by calculating the weights by optimization results in assigning weights in such a way that the portfolio return increases and the standard deviation decreases."
      ],
      "metadata": {
        "id": "K0NO-qAN5gWU"
      }
    },
    {
      "cell_type": "markdown",
      "source": [
        "# **Optimization techniques used by Mutual Funds currently**"
      ],
      "metadata": {
        "id": "JuzlDJ6S5gZc"
      }
    },
    {
      "cell_type": "markdown",
      "source": [
        "An optimization technique used by the mutual funds is mean-variance optimization."
      ],
      "metadata": {
        "id": "9AAifFZW5gc7"
      }
    },
    {
      "cell_type": "markdown",
      "source": [
        "# **Parameters used for checking the accuracy**"
      ],
      "metadata": {
        "id": "T6e8Xw158R5K"
      }
    },
    {
      "cell_type": "markdown",
      "source": [
        "I used return percentage and the standard devaiation(volatality) for checking the accuracy. I also used the sharpe ratio."
      ],
      "metadata": {
        "id": "DGsrUZiI8SkF"
      }
    }
  ],
  "metadata": {
    "colab": {
      "provenance": [],
      "include_colab_link": true
    },
    "kernelspec": {
      "display_name": "Python 3",
      "name": "python3"
    }
  },
  "nbformat": 4,
  "nbformat_minor": 0
}